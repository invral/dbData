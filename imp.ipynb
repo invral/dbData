{
 "cells": [
  {
   "cell_type": "code",
   "execution_count": 1,
   "metadata": {
    "scrolled": true
   },
   "outputs": [
    {
     "name": "stderr",
     "output_type": "stream",
     "text": [
      "/Users/alexandrboyko/PycharmProjects/bdData/venv/lib/python3.6/site-packages/psycopg2/__init__.py:144: UserWarning: The psycopg2 wheel package will be renamed from release 2.8; in order to keep installing from binary please use \"pip install psycopg2-binary\" instead. For details see: <http://initd.org/psycopg/docs/install.html#binary-install-from-pypi>.\n",
      "  \"\"\")\n"
     ]
    }
   ],
   "source": [
    "from main import *\n",
    "import psycopg2"
   ]
  },
  {
   "cell_type": "code",
   "execution_count": 2,
   "metadata": {
    "scrolled": true
   },
   "outputs": [
    {
     "name": "stdout",
     "output_type": "stream",
     "text": [
      "('PostgreSQL 10.19 on x86_64-apple-darwin14.5.0, compiled by Apple LLVM version 7.0.2 (clang-700.1.81), 64-bit',)\n"
     ]
    }
   ],
   "source": [
    "conn = psycopg2.connect(\n",
    "    database = \"postgres\",\n",
    "    user = \"postgres\",\n",
    "    password = \"\",\n",
    "    host = \"localhost\",\n",
    "    port = \"5555\",\n",
    "\n",
    ")\n",
    "\n",
    "\n",
    "cur = conn.cursor()\n",
    "cur.execute('SELECT version()')\n",
    "\n",
    "db_version = cur.fetchone()\n",
    "print(db_version)"
   ]
  },
  {
   "cell_type": "code",
   "execution_count": 3,
   "metadata": {},
   "outputs": [],
   "source": [
    "namesUser, usersID, passwordsUser, emailUser  = createUserData(150)"
   ]
  },
  {
   "cell_type": "code",
   "execution_count": 4,
   "metadata": {},
   "outputs": [],
   "source": [
    "namesGroup, idGroup, amountOfUsers = createGroupData(150)"
   ]
  },
  {
   "cell_type": "code",
   "execution_count": 5,
   "metadata": {
    "scrolled": true
   },
   "outputs": [],
   "source": [
    "namesTable, starredFlagsTable, tablesId = createTableData(150)"
   ]
  },
  {
   "cell_type": "code",
   "execution_count": 7,
   "metadata": {},
   "outputs": [],
   "source": [
    "cardsID, starredflagsCard, namesCard = createCardData(3*150)"
   ]
  },
  {
   "cell_type": "code",
   "execution_count": 8,
   "metadata": {},
   "outputs": [],
   "source": [
    "namesLine, linesID, descriptions = createLineData(2*3*150)"
   ]
  },
  {
   "cell_type": "code",
   "execution_count": 11,
   "metadata": {},
   "outputs": [],
   "source": [
    "pathsFile, filesID, types = createFileData(2*2*3*150)"
   ]
  },
  {
   "cell_type": "code",
   "execution_count": 12,
   "metadata": {},
   "outputs": [],
   "source": [
    "datesCom, comID, textCom = createComData(150)"
   ]
  },
  {
   "cell_type": "code",
   "execution_count": 13,
   "metadata": {},
   "outputs": [],
   "source": [
    "UIGid = createUIGdata(150)"
   ]
  },
  {
   "cell_type": "code",
   "execution_count": 16,
   "metadata": {},
   "outputs": [],
   "source": [
    "datesVersion, oldPathsVersion, versionsID = createVersioningData(2*2*3*150)"
   ]
  },
  {
   "cell_type": "code",
   "execution_count": null,
   "metadata": {},
   "outputs": [],
   "source": [
    "для юзерс ин групп\n",
    "for i in range(len(UIGid)):\n",
    "    idUig = UIGid[i]\n",
    "    idGr = idGroup[i]\n",
    "    idU = usersID[i]\n"
   ]
  },
  {
   "cell_type": "code",
   "execution_count": null,
   "metadata": {},
   "outputs": [],
   "source": [
    "для карточки\n",
    "for i in range(len(tablesId)):\n",
    "    for j in range(3):\n",
    "        tableid = tablesId[i]\n",
    "        userid = usersID[i]\n",
    "        cardid = cardsID[j + i * 3]\n",
    "        stFcard = starredflagsCard[j + i * 3]\n",
    "        nameCard = namesCard[j + i * 3]\n",
    "        \n",
    "        "
   ]
  },
  {
   "cell_type": "code",
   "execution_count": null,
   "metadata": {},
   "outputs": [],
   "source": [
    "для линии\n",
    "for i in range(len(cardsID)):\n",
    "    for j in range(2):\n",
    "        cardid = cardsID[i]\n",
    "        descrip = descriptions[j + i * 2]\n",
    "        nameLn = namesLine[j + i * 2]\n",
    "        lineid = linesID[j + i * 2]\n",
    "        userid = userID[int(i / 3)]"
   ]
  },
  {
   "cell_type": "code",
   "execution_count": null,
   "metadata": {},
   "outputs": [],
   "source": [
    "для файла\n",
    "for i in range(len(linesID)):\n",
    "    for j in range(2):\n",
    "        lineid = linesID[i]\n",
    "        fileid = filesID[j + i * 2]\n",
    "        typeFile = types[j + i * 2]\n",
    "        pathFile = pathsFile[j + i * 2]"
   ]
  },
  {
   "cell_type": "code",
   "execution_count": null,
   "metadata": {},
   "outputs": [],
   "source": [
    "для коммента\n",
    "for i in range(len(usersID)):\n",
    "    userid = usersID[i]\n",
    "    lineid = linesID[6 * i]\n",
    "    comid = comID[i]\n",
    "    datecom = datesCom[i]\n",
    "    textc = textCom[i]\n",
    "    \n",
    "    "
   ]
  },
  {
   "cell_type": "code",
   "execution_count": null,
   "metadata": {},
   "outputs": [],
   "source": [
    "для вершионинга\n",
    "for i in range(len(filesID)):\n",
    "    dateVersion = datesVersion[i]\n",
    "    oldPath = oldPathsVersion[i]\n",
    "    versionid = versionsID[i]\n",
    "    userid = usersID[int(i / 6)]"
   ]
  }
 ],
 "metadata": {
  "kernelspec": {
   "display_name": "Python 3",
   "language": "python",
   "name": "python3"
  },
  "language_info": {
   "codemirror_mode": {
    "name": "ipython",
    "version": 3
   },
   "file_extension": ".py",
   "mimetype": "text/x-python",
   "name": "python",
   "nbconvert_exporter": "python",
   "pygments_lexer": "ipython3",
   "version": "3.6.8"
  }
 },
 "nbformat": 4,
 "nbformat_minor": 1
}